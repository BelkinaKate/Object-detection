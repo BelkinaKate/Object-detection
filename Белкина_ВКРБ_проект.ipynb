{
  "nbformat": 4,
  "nbformat_minor": 0,
  "metadata": {
    "colab": {
      "name": "Белкина ВКРБ проект.ipynb\"",
      "provenance": [],
      "collapsed_sections": [],
      "toc_visible": true,
      "include_colab_link": true
    },
    "kernelspec": {
      "display_name": "Python 3",
      "name": "python3"
    },
    "language_info": {
      "name": "python"
    }
  },
  "cells": [
    {
      "cell_type": "markdown",
      "metadata": {
        "id": "view-in-github",
        "colab_type": "text"
      },
      "source": [
        "<a href=\"https://colab.research.google.com/github/BelkinaKate/Object-detection/blob/main/%D0%91%D0%B5%D0%BB%D0%BA%D0%B8%D0%BD%D0%B0_%D0%92%D0%9A%D0%A0%D0%91_%D0%BF%D1%80%D0%BE%D0%B5%D0%BA%D1%82.ipynb\" target=\"_parent\"><img src=\"https://colab.research.google.com/assets/colab-badge.svg\" alt=\"Open In Colab\"/></a>"
      ]
    },
    {
      "cell_type": "markdown",
      "metadata": {
        "id": "Zxaj46UAqbjs"
      },
      "source": [
        "##Установка библиотек и пакетов"
      ]
    },
    {
      "cell_type": "code",
      "metadata": {
        "id": "vAS_PrNBwZJg"
      },
      "source": [
        "pip install -U ipykernel"
      ],
      "execution_count": null,
      "outputs": []
    },
    {
      "cell_type": "code",
      "metadata": {
        "id": "yERDyexKwbEa"
      },
      "source": [
        "pip install -q streamlit"
      ],
      "execution_count": null,
      "outputs": []
    },
    {
      "cell_type": "code",
      "metadata": {
        "id": "MDaBBIi_wddf"
      },
      "source": [
        "!pip install -Iv pyngrok==4.1.1"
      ],
      "execution_count": null,
      "outputs": []
    },
    {
      "cell_type": "code",
      "metadata": {
        "id": "1FXp-azuwhAC"
      },
      "source": [
        "!ngrok authtoken 1qkBuwm9yeM7O7OBB14eCUiGFrt_7nCvwDdVwzRYdrjuwYJDN"
      ],
      "execution_count": null,
      "outputs": []
    },
    {
      "cell_type": "markdown",
      "metadata": {
        "id": "p8_d7LxsSE1E"
      },
      "source": [
        "###Установка пакетов для ImageAI"
      ]
    },
    {
      "cell_type": "code",
      "metadata": {
        "id": "_iKDZBNsSDRS"
      },
      "source": [
        "#install imageai lib.\n",
        "!pip install imageAI --upgrade"
      ],
      "execution_count": null,
      "outputs": []
    },
    {
      "cell_type": "markdown",
      "metadata": {
        "id": "iFqJf3tBqy8i"
      },
      "source": [
        "###Установка версии библиотеки Matplotlib"
      ]
    },
    {
      "cell_type": "code",
      "metadata": {
        "id": "drVZsrduTMeW"
      },
      "source": [
        "!python -m pip uninstall matplotlib -y\n",
        "!pip install matplotlib==3.1.3 "
      ],
      "execution_count": null,
      "outputs": []
    },
    {
      "cell_type": "markdown",
      "metadata": {
        "id": "gHXN7Psqqrsr"
      },
      "source": [
        "###Установка пакетов для MXnet"
      ]
    },
    {
      "cell_type": "code",
      "metadata": {
        "id": "bojdrsSYDBP_"
      },
      "source": [
        "# for mxnet\n",
        "!pip install --upgrade mxnet\n",
        "!pip install --upgrade gluoncv"
      ],
      "execution_count": null,
      "outputs": []
    },
    {
      "cell_type": "markdown",
      "metadata": {
        "id": "9_F7VJxoy_os"
      },
      "source": [
        "## Создание веб-приложения для распознавания объектов"
      ]
    },
    {
      "cell_type": "code",
      "metadata": {
        "id": "XoihBhduqmI8"
      },
      "source": [
        "%cd /content"
      ],
      "execution_count": null,
      "outputs": []
    },
    {
      "cell_type": "markdown",
      "metadata": {
        "id": "_vCz_zcf7M8n"
      },
      "source": [
        "Подключение Google диск для загрузки файлов моделей и примеров изображений"
      ]
    },
    {
      "cell_type": "code",
      "metadata": {
        "id": "bbbmmTdXJKUr"
      },
      "source": [
        "from google.colab import drive\n",
        "drive.mount('/content/gdrive')"
      ],
      "execution_count": null,
      "outputs": []
    },
    {
      "cell_type": "markdown",
      "metadata": {
        "id": "Q3ro-jAK7aOf"
      },
      "source": [
        "Создание файла приложения"
      ]
    },
    {
      "cell_type": "code",
      "metadata": {
        "id": "CsdyVhjCp4Xl"
      },
      "source": [
        "%%writefile yolo_app333.py\n",
        "import streamlit as st\n",
        "import time\n",
        "import cv2\n",
        "import numpy as np\n",
        "import matplotlib.pyplot as plt\n",
        "from PIL import Image\n",
        "import os, urllib\n",
        "import base64\n",
        "import io\n",
        "from io import BytesIO\n",
        "#from google.colab.patches import cv2_imshow\n",
        "from base64 import b64decode, b64encode\n",
        "import gluoncv\n",
        "from gluoncv import model_zoo, data, utils\n",
        "import mxnet as mx\n",
        "import matplotlib.image as mpimg\n",
        "\n",
        "import torch\n",
        "import matplotlib.patches as patches\n",
        "\n",
        "def load_rcnn():\n",
        "  #load pretrained model\n",
        "  net = model_zoo.get_model('faster_rcnn_fpn_resnet50_v1b_coco', pretrained=True)\n",
        "  return net\n",
        "\n",
        "def load_ssd():\n",
        "  #load pretrained model\n",
        "  net_ssd = model_zoo.get_model('ssd_512_vgg16_atrous_coco', pretrained=True)\n",
        "  return net_ssd\n",
        "\n",
        "def MXnet_run(net_, img_path, min_precision, col2):\n",
        "  net = net_\n",
        "\n",
        "  #get and transform image\n",
        "  im_fname = img_path\n",
        "  x, orig_img = data.transforms.presets.rcnn.load_test(im_fname)\n",
        "\n",
        "  thresh = min_precision / 100\n",
        "\n",
        "  #detect objects and display results\n",
        " \n",
        "  box_ids, scores, bboxes = net(x)\n",
        "  ax = utils.viz.plot_bbox(orig_img, bboxes[0], scores[0], box_ids[0], thresh, class_names=net.classes, linewidth=2, fontsize=9)\n",
        "  \n",
        "  column2 = col2\n",
        "  st.text(\"\")\n",
        "  column2.subheader(\"Результат распознавания\")\n",
        "  st.text(\"\")\n",
        "  column2.pyplot(use_column_width=True)\n",
        "\n",
        "  bboxes_= bboxes[0]\n",
        "  scores = scores[0]\n",
        "  labels = box_ids[0]\n",
        "  class_names=net.classes\n",
        "  thresh = min_precision / 100\n",
        "  \n",
        "  if isinstance(bboxes_, mx.nd.NDArray):\n",
        "    bboxes_ = bboxes_.asnumpy()\n",
        "  if isinstance(labels, mx.nd.NDArray):\n",
        "    labels = labels.asnumpy()\n",
        "  if isinstance(scores, mx.nd.NDArray):\n",
        "    scores = scores.asnumpy()\n",
        "\n",
        "  for i, bbox in enumerate(bboxes_):\n",
        "    if scores is not None and scores.flat[i] < thresh:\n",
        "      continue\n",
        "    if labels is not None and labels.flat[i] < 0:\n",
        "      continue\n",
        "    cls_id = int(labels.flat[i]) if labels is not None else -1\n",
        "       \n",
        "    if class_names is not None and cls_id < len(class_names):\n",
        "      class_name = class_names[cls_id]\n",
        "    else:\n",
        "      class_name = str(cls_id) if cls_id >= 0 else ''\n",
        "    score = '{:.3f}'.format(scores.flat[i]*100) if scores is not None else ''\n",
        "    if class_name or score:\n",
        "      st.write(\"Найден объект класса '{:s}' - с уверенностью {:s} %\".format(class_name, score))\n",
        "\n",
        "@st.cache(show_spinner=False)\n",
        "def load_model(model_type, speed):\n",
        "  #Import ObjectDetection class from the ImageAI library\n",
        "  from imageai.Detection import ObjectDetection  \n",
        "  \n",
        "  #create an instance of the class ObjectDetection\n",
        "  detector = ObjectDetection()  \n",
        "\n",
        "  if model_type == 'retina_net':\n",
        "    # dowload model file from google drive\n",
        "    model_path = \"/content/gdrive/MyDrive/Object-detection/resnet50_coco_best_v2.1.0.h5\"\n",
        "    # dowload model locally \n",
        "    #model_path = \"/content/resnet50_coco_best_v2.1.0.h5\" \n",
        "\n",
        "    #set the type of pretrained model\n",
        "    detector.setModelTypeAsRetinaNet() \n",
        "\n",
        "  elif model_type == 'yolov3':\n",
        "    # dowload model file from google drive\n",
        "    model_path = \"/content/gdrive/MyDrive/Object-detection/yolo.h5\"\n",
        "    # dowload model locally\n",
        "    #model_path = \"/content/pretrained-yolov3.h5\"\n",
        "\n",
        "    #set the type of pretrained model\n",
        "    detector.setModelTypeAsYOLOv3() \n",
        "     \n",
        "  elif model_type == 'yolo_tiny':\n",
        "    # dowload model file from google drive\n",
        "    model_path = \"/content/gdrive/MyDrive/Object-detection/yolo-tiny.h5\"\n",
        "    # dowload model locally\n",
        "    #model_path = \"/content/yolo-tiny.h5\"\n",
        "\n",
        "    #set the type of pretrained model\n",
        "    detector.setModelTypeAsTinyYOLOv3()\n",
        "\n",
        "  else:\n",
        "    print(\"Error: wrong model type\") \n",
        "    \n",
        "  #set the path to the model \n",
        "  detector.setModelPath(model_path)\n",
        "  #load the model from the path specified and specify speed\n",
        "  detector.loadModel(speed)\n",
        "\n",
        "  return detector\n",
        "\n",
        "def run_detection(detector_, my_img_path, score_threshold, col2):\n",
        "\n",
        "  input_path = my_img_path\n",
        "  output_path = \"/content/newimage.jpg\" # //specify the path from our input image, output image, and model.\n",
        "\n",
        "  #load any image and display \n",
        "\n",
        "  #function returns a dictionary which contains the names and percentage probabilities of all the objects detected in the image.\n",
        "  #the dictionary items can be accessed by traversing through each item in the dictionary.\n",
        "  detector = detector_\n",
        "  detection = detector.detectObjectsFromImage(input_image=input_path, output_image_path=output_path, minimum_percentage_probability=score_threshold)\n",
        "  if len(detection) > 0: \n",
        "    for eachItem in detection:\n",
        "      st.write(\"Найден объект класса '{}' - с уверенностью {} %\".format(eachItem[\"name\"],round(eachItem[\"percentage_probability\"], 3)))\n",
        "  else:\n",
        "    st.write(\"Ни одного объекта не обнаружено.\")\n",
        "    st.warning(\"Возможно, объекты на избражении не принадлежат ни к одному из классов COCO датасета\")\n",
        "  \n",
        "  img = mpimg.imread(output_path)\n",
        "\n",
        "  column2 = col2\n",
        "  st.text(\"\")\n",
        "  column2.subheader(\"Результат распознавания\")\n",
        "  st.text(\"\")\n",
        "  plt.figure(figsize = (15,15))\n",
        "  plt.imshow(img)\n",
        "  column2.pyplot(use_column_width=True)\n",
        "\n",
        "@st.cache(show_spinner=False)\n",
        "def load_ssd_0():\n",
        "  precision = 'fp32'\n",
        "  ssd_model = torch.hub.load('NVIDIA/DeepLearningExamples:torchhub', 'nvidia_ssd', model_math=precision)\n",
        "\n",
        "  utils = torch.hub.load('NVIDIA/DeepLearningExamples:torchhub', 'nvidia_ssd_processing_utils')\n",
        "\n",
        "  ssd_model.to('cuda')\n",
        "  ssd_model.eval()\n",
        "\n",
        "  return ssd_model, utils\n",
        "\n",
        "def ssd_detection(model, utils, img_path, min_precision, col2):\n",
        "  \n",
        "  precision = 'fp32'\n",
        "  uris = [img_path]\n",
        "  inputs = [utils.prepare_input(uri) for uri in uris]\n",
        "  tensor = utils.prepare_tensor(inputs, precision == 'fp16')\n",
        "\n",
        "  with torch.no_grad():\n",
        "    detections_batch = model(tensor)\n",
        "  \n",
        "  results_per_input = utils.decode_results(detections_batch)\n",
        "  best_results_per_input = [utils.pick_best(results, min_precision) for results in results_per_input]\n",
        "\n",
        "  classes_to_labels = utils.get_coco_object_dictionary()\n",
        "\n",
        "  for image_idx in range(len(best_results_per_input)):\n",
        "\n",
        "    fig, ax = plt.subplots(1)\n",
        "    # Show original, denormalized image...\n",
        "    image = inputs[image_idx] / 2 + 0.5\n",
        "    img = Image.fromarray(image, 'RGB')\n",
        "    img.save(\"img_ssd.jpg\", \"JPEG\")\n",
        "    ax.imshow(image)\n",
        "    # ...with detections\n",
        "    bboxes, classes, confidences = best_results_per_input[image_idx]\n",
        "    for idx in range(len(bboxes)):\n",
        "      left, bot, right, top = bboxes[idx]\n",
        "      x, y, w, h = [val * 300 for val in [left, bot, right - left, top - bot]]\n",
        "      rect = patches.Rectangle((x, y), w, h, linewidth=1, edgecolor='r', facecolor='none')\n",
        "      ax.add_patch(rect)\n",
        "      ax.text(x, y, \"{} {:.0f}%\".format(classes_to_labels[classes[idx] - 1], confidences[idx]*100), bbox=dict(facecolor='white', alpha=0.5))\n",
        "      if len(bboxes) > 0:\n",
        "        st.write(\"Найден объект класса '{}' - с уверенностью {} %\".format(classes_to_labels[classes[idx] - 1], round(confidences[idx]*100, 3)))\n",
        "      else:\n",
        "        st.write(\"Ни одного объекта не обнаружено.\")\n",
        "        st.warning(\"Возможно, объекты на избражении не принадлежат ни к одному из классов COCO датасета\")\n",
        "\n",
        "    column2 = col2\n",
        "    st.text(\"\")\n",
        "    column2.subheader(\"Результат распознавания\")\n",
        "    st.text(\"\")\n",
        "    column2.pyplot(fig, use_column_width=True)\n",
        "\n",
        "def to_jpeg(file):\n",
        "  # Encode PIL Image as a JPEG without writing to disk\n",
        "  buffer = io.BytesIO()\n",
        "  file.save(buffer, format='JPEG', quality=75)\n",
        "\n",
        "  desiredObject = buffer.getbuffer()\n",
        "  return desiredObject\n",
        "\n",
        "def set_speed(model_name):\n",
        "  if model_name == 'YOLOv3' or model_name == 'YOLO tiny':\n",
        "    speed = 'fast'\n",
        "  elif model_name == 'RetinaNet':\n",
        "    speed = 'flash'\n",
        "  else:\n",
        "    speed = 'None'\n",
        "  return speed\n",
        "\n",
        "def preprocess_models(model_name):\n",
        "  if model_name == 'SSD':\n",
        "    net_ = load_ssd()\n",
        "  \n",
        "  elif model_name == 'Faster RCNN':\n",
        "    net_ = load_rcnn()\n",
        "\n",
        "  else:\n",
        "    net_ = None\n",
        "  return net_\n",
        "\n",
        "#@st.cache(show_spinner=False, suppress_st_warning=True)\n",
        "def show_image(my_img, col1):\n",
        "  with st.spinner('Идёт загрузка данных...'):\n",
        "    column1 = col1\n",
        "    column1.image(my_img, use_column_width=True)\n",
        "\n",
        "\n",
        "def show_input(my_img):\n",
        "  st.set_option('deprecation.showPyplotGlobalUse', False)\n",
        "  column1, column2 = st.beta_columns(2)\n",
        "  column1.subheader(\"Исходное изображение\")\n",
        "  plt.figure(figsize = (15,15))\n",
        "  with st.spinner('Идёт загрузка данных...'):\n",
        "    plt.imshow(my_img)\n",
        "    column1.pyplot() #use_column_width=True\n",
        "  return column1, column2\n",
        "\n",
        "#download a single file and make its content available as a string\n",
        "@st.cache(show_spinner=False)\n",
        "def get_file_content_as_string(path):\n",
        "  url = path\n",
        "  response = urllib.request.urlopen(url)\n",
        "  return response.read().decode(\"utf-8\")\n",
        "\n",
        "def image_detection(model_name, speed, img_path, score_threshold, col2, net_):\n",
        "  #set the chosen model type\n",
        "  if model_name == \"YOLOv3\":\n",
        "    model_type = 'yolov3'\n",
        "\n",
        "  if model_name == \"YOLO tiny\":\n",
        "    model_type = 'yolo_tiny'\n",
        "\n",
        "  if model_name == \"RetinaNet\":\n",
        "    model_type = 'retina_net'\n",
        "\n",
        "  if model_name == \"SSD\":\n",
        "    model_type = 'ssd'\n",
        "\n",
        "  if model_name == \"Faster RCNN\":\n",
        "    model_type = 'faster_rcnn'\n",
        "\n",
        "  if model_type == 'ssd':\n",
        "    #model, utils = load_ssd()\n",
        "    #score_threshold_ = score_threshold / 100\n",
        "    #ssd_detection(model, utils, img_path, score_threshold_, col2)\n",
        "    net = net_\n",
        "    MXnet_run(net, img_path, score_threshold, col2) \n",
        "  \n",
        "  elif model_type == 'faster_rcnn':\n",
        "    net = net_\n",
        "    MXnet_run(net, img_path, score_threshold, col2)\n",
        "\n",
        "  else:\n",
        "    #load the model settings and file\n",
        "    detector = load_model(model_type, speed)\n",
        "    #detect the objects in the image\n",
        "    run_detection(detector, img_path, score_threshold, col2)\n",
        "\n",
        "def main():\n",
        "    \n",
        "    st.set_page_config(\n",
        "        page_title=\"App\",\n",
        "        page_icon= \"random\",\n",
        "        layout=\"centered\", #centered or wide\n",
        "        initial_sidebar_state=\"expanded\") #auto or expanded or collapsed\n",
        "    \n",
        "    st.sidebar.header(\"Что бы вы хотели?\")\n",
        "    choice = st.sidebar.radio(\"\", (\"Посмотреть информацию\", \"Посмотреть пример\", \"Загрузить своё изображение\", \"Посмотреть код\"))\n",
        "\n",
        "    if choice == \"Посмотреть информацию\":\n",
        "      \n",
        "      st.header(\"Распознавание объектов на изображениях\")\n",
        "      st.subheader(\"*Используя модели YOLOv3, SSD, Faster RCNN, RetinaNet и YOLO tiny*\")\n",
        "      st.text(\"................................................................................\")\n",
        "      st.write(get_file_content_as_string(\"https://raw.githubusercontent.com/BelkinaKate/Object-detection/main/info\"))\n",
        "\n",
        "    elif choice == \"Загрузить своё изображение\":\n",
        "    \n",
        "      st.empty()\n",
        "      st.header(\"Обнаружение объектов на Вашем изображении\")\n",
        "      st.markdown(\"Загрузите своё изображение, настройте модель для распознавания и минимальный процент уверенности предсказаний.\")\n",
        "      model_name = st.sidebar.selectbox('Выберите модель', ('YOLOv3', 'SSD', 'Faster RCNN', 'RetinaNet', 'YOLO tiny'))\n",
        "      image_file = st.file_uploader(\"Загрузите изображение с помощью формы\", type=['jpg','jpeg'])\n",
        "      score_threshold = st.sidebar.slider(\"Коэффициент уверенности (%)\", 0, 100, 50, 1, '%d')\n",
        "      #speed = st.sidebar.selectbox('Скорость распознавания', ('normal', 'fast', 'faster', 'fastest', 'flash'))\n",
        "      speed = set_speed(model_name)\n",
        "      net_ = preprocess_models(model_name)\n",
        "\n",
        "      if image_file is not None:\n",
        "        \n",
        "        my_img = Image.open(image_file)\n",
        "\n",
        "        my_img.save(\"out.jpg\", \"JPEG\")\n",
        "        img_path = \"/content/out.jpg\"\n",
        "        image = to_jpeg(my_img)\n",
        "\n",
        "        st.set_option('deprecation.showPyplotGlobalUse', False)\n",
        "        column1, column2 = st.beta_columns(2)\n",
        "        column1.subheader(\"Исходное изображение\")\n",
        "        show_image(my_img, column1)\n",
        "        col1, col2 = column1, column2\n",
        "        #col1, col2 = show_input(my_img)\n",
        "\n",
        "        clicked = st.button('Найти объекты')\n",
        "        \n",
        "        if clicked:\n",
        "          with st.spinner('Идёт обработка. Пожалуйста подождите...'):\n",
        "            start_time = time.time()\n",
        "            image_detection(model_name, speed, img_path, score_threshold, col2, net_)\n",
        "            st.info(\"Время распознавания = %s с \" % (time.time() - start_time))\n",
        "        \n",
        "      else:\n",
        "          st.info(\"Загрузите изображение для распознавания.\")\n",
        "\n",
        "    elif choice == \"Посмотреть пример\":\n",
        "      st.empty()\n",
        "      st.header(\"Пример распознавания объектов на изображении\")\n",
        "      st.markdown(\"Попробуйте распознавание с помощью разных моделей глубокого обучения.\")\n",
        "      model_name = st.sidebar.selectbox('Выберите модель', ('YOLOv3', 'SSD', 'Faster RCNN', 'RetinaNet', 'YOLO tiny'))\n",
        "      score_threshold = st.sidebar.slider(\"Коэффициент уверенности (%)\",  0, 100, 50, 1, '%d')\n",
        "      #speed = st.sidebar.selectbox('Скорость распознавания', ('normal', 'fast', 'faster','fastest', 'flash'))\n",
        "      speed = set_speed(model_name)\n",
        "\n",
        "      img_path = '/content/gdrive/MyDrive/Object-detection/street1_1.jpg'\n",
        "      my_img = Image.open(img_path)\n",
        "\n",
        "      st.set_option('deprecation.showPyplotGlobalUse', False)\n",
        "      column1, column2 = st.beta_columns(2)\n",
        "      column1.subheader(\"Исходное изображение\")\n",
        "      show_image(my_img, column1)\n",
        "      #col1, col2 = show_input(my_img)\n",
        "\n",
        "      net_ = preprocess_models(model_name)\n",
        "\n",
        "      if st.button('Найти объекты'):\n",
        "        with st.spinner('Идёт обработка. Пожалуйста подождите...'):\n",
        "          start_time = time.time()\n",
        "          image_detection(model_name, speed, img_path, score_threshold, column2, net_)\n",
        "          st.info(\"Время распознавания = %s с \" % round(time.time() - start_time, 3))\n",
        "    \n",
        "    elif choice == \"Посмотреть код\":\n",
        "      st.header(\"Код веб-приложения для распознавания объектов\")\n",
        "      st.code(get_file_content_as_string(\"https://raw.githubusercontent.com/BelkinaKate/Object-detection/main/object_detection.py\"))\n",
        "\n",
        "if __name__ == '__main__':\n",
        "    main()"
      ],
      "execution_count": null,
      "outputs": []
    },
    {
      "cell_type": "markdown",
      "metadata": {
        "id": "elS-Enf07ep1"
      },
      "source": [
        "Создание активной ссылки для отображения приложения в браузере"
      ]
    },
    {
      "cell_type": "code",
      "metadata": {
        "id": "GQOU7MyVwV5D"
      },
      "source": [
        "!nohup streamlit run yolo_app333.py &"
      ],
      "execution_count": null,
      "outputs": []
    },
    {
      "cell_type": "code",
      "metadata": {
        "id": "IGMko2aSwy84"
      },
      "source": [
        "from pyngrok import ngrok\n",
        "# Setup a tunnel to the streamlit port 8501\n",
        "\n",
        "#ngrok.kill()\n",
        " \n",
        "public_url = ngrok.connect(port= 8501)\n",
        "#!streamlit run --server.port 80 web_app.py >/dev/null \n",
        "public_url"
      ],
      "execution_count": null,
      "outputs": []
    },
    {
      "cell_type": "markdown",
      "metadata": {
        "id": "ledm2bn0js_t"
      },
      "source": [
        "##**Остановить выполнение**\n",
        "\n"
      ]
    },
    {
      "cell_type": "markdown",
      "metadata": {
        "id": "FO6s7-EQ7oc3"
      },
      "source": [
        "Просмотр текущих запущенных процессов streamlit"
      ]
    },
    {
      "cell_type": "code",
      "metadata": {
        "id": "_Nh2BTeKVp25"
      },
      "source": [
        "!ps aux | grep streamlit"
      ],
      "execution_count": null,
      "outputs": []
    },
    {
      "cell_type": "markdown",
      "metadata": {
        "id": "PvLPunBc7sgv"
      },
      "source": [
        "Оставить процесс streamlit определенного номера"
      ]
    },
    {
      "cell_type": "code",
      "metadata": {
        "id": "JADdNnygVqZ6"
      },
      "source": [
        "!kill 366"
      ],
      "execution_count": null,
      "outputs": []
    },
    {
      "cell_type": "markdown",
      "metadata": {
        "id": "zKnFHM5Q7wUW"
      },
      "source": [
        "Закрыть отображение по активной ссылке"
      ]
    },
    {
      "cell_type": "code",
      "metadata": {
        "id": "k8cDY2aLVrtu"
      },
      "source": [
        "ngrok.kill()"
      ],
      "execution_count": null,
      "outputs": []
    }
  ]
}